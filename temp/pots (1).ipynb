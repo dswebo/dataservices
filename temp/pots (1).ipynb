{
 "cells": [
  {
   "cell_type": "code",
   "execution_count": 40,
   "metadata": {},
   "outputs": [],
   "source": [
    "import pandas as pd\n",
    "import numpy as np\n",
    "import pandas_profiling\n",
    "import missingno as msno\n",
    "import seaborn as sns\n",
    "import matplotlib.pyplot as plt\n",
    "from matplotlib import pyplot as plt\n",
    "%matplotlib inline\n",
    "from matplotlib.pylab import rcParams\n",
    "rcParams['figure.figsize'] = 12, 4"
   ]
  },
  {
   "cell_type": "code",
   "execution_count": 41,
   "metadata": {},
   "outputs": [],
   "source": [
    "df3 = pd.read_csv(\"./ik/10mln/20mln/20mln/000000000000\")\n",
    "df4 = df3.drop(\"t_afficheW\", axis =1)\n",
    "df4 = df4.idxmax(axis=1)\n"
   ]
  },
  {
   "cell_type": "code",
   "execution_count": 42,
   "metadata": {},
   "outputs": [],
   "source": [
    "df4.to_csv(\"segmants\")"
   ]
  },
  {
   "cell_type": "code",
   "execution_count": 43,
   "metadata": {
    "collapsed": true
   },
   "outputs": [],
   "source": [
    "df3[\"t_afficheW\"].to_csv(\"ids\")"
   ]
  },
  {
   "cell_type": "code",
   "execution_count": 44,
   "metadata": {},
   "outputs": [],
   "source": [
    "seg = pd.read_csv(\"segmants.csv\", header = None, names = [\"id\",\"seg\"])"
   ]
  },
  {
   "cell_type": "code",
   "execution_count": 45,
   "metadata": {},
   "outputs": [],
   "source": [
    "id = pd.read_csv(\"ids\", header = None, names = \"d\")"
   ]
  },
  {
   "cell_type": "code",
   "execution_count": 46,
   "metadata": {},
   "outputs": [
    {
     "data": {
      "text/html": [
       "<div>\n",
       "<style>\n",
       "    .dataframe thead tr:only-child th {\n",
       "        text-align: right;\n",
       "    }\n",
       "\n",
       "    .dataframe thead th {\n",
       "        text-align: left;\n",
       "    }\n",
       "\n",
       "    .dataframe tbody tr th {\n",
       "        vertical-align: top;\n",
       "    }\n",
       "</style>\n",
       "<table border=\"1\" class=\"dataframe\">\n",
       "  <thead>\n",
       "    <tr style=\"text-align: right;\">\n",
       "      <th></th>\n",
       "      <th>d</th>\n",
       "    </tr>\n",
       "  </thead>\n",
       "  <tbody>\n",
       "    <tr>\n",
       "      <th>0</th>\n",
       "      <td>Mb2HUt2OUrox</td>\n",
       "    </tr>\n",
       "    <tr>\n",
       "      <th>1</th>\n",
       "      <td>4x8P0LdFBfnj</td>\n",
       "    </tr>\n",
       "    <tr>\n",
       "      <th>2</th>\n",
       "      <td>dxbrzt3x1FF3</td>\n",
       "    </tr>\n",
       "    <tr>\n",
       "      <th>3</th>\n",
       "      <td>hylnAytgLNKH</td>\n",
       "    </tr>\n",
       "    <tr>\n",
       "      <th>4</th>\n",
       "      <td>Vqgsy5NMCZNW</td>\n",
       "    </tr>\n",
       "    <tr>\n",
       "      <th>5</th>\n",
       "      <td>CqGeC0JtyBsK</td>\n",
       "    </tr>\n",
       "    <tr>\n",
       "      <th>6</th>\n",
       "      <td>O6FYmhpli2M7</td>\n",
       "    </tr>\n",
       "    <tr>\n",
       "      <th>7</th>\n",
       "      <td>4andKos28Ovh</td>\n",
       "    </tr>\n",
       "    <tr>\n",
       "      <th>8</th>\n",
       "      <td>cNQMM-Y5JKlw</td>\n",
       "    </tr>\n",
       "    <tr>\n",
       "      <th>9</th>\n",
       "      <td>IZqZYBgPDjUh</td>\n",
       "    </tr>\n",
       "    <tr>\n",
       "      <th>10</th>\n",
       "      <td>Vzte7QpVpClX</td>\n",
       "    </tr>\n",
       "    <tr>\n",
       "      <th>11</th>\n",
       "      <td>NPaJselznYE0</td>\n",
       "    </tr>\n",
       "    <tr>\n",
       "      <th>12</th>\n",
       "      <td>c@4SR4gTij1z</td>\n",
       "    </tr>\n",
       "    <tr>\n",
       "      <th>13</th>\n",
       "      <td>oVxlU5-eaw2h</td>\n",
       "    </tr>\n",
       "    <tr>\n",
       "      <th>14</th>\n",
       "      <td>YoZ3k3xhwShi</td>\n",
       "    </tr>\n",
       "    <tr>\n",
       "      <th>15</th>\n",
       "      <td>uF-4CYVFsHi4</td>\n",
       "    </tr>\n",
       "    <tr>\n",
       "      <th>16</th>\n",
       "      <td>bJnOuPu2ccps</td>\n",
       "    </tr>\n",
       "    <tr>\n",
       "      <th>17</th>\n",
       "      <td>LWtmvogMJlYt</td>\n",
       "    </tr>\n",
       "    <tr>\n",
       "      <th>18</th>\n",
       "      <td>9GTVn5s97L30</td>\n",
       "    </tr>\n",
       "    <tr>\n",
       "      <th>19</th>\n",
       "      <td>tA8pDIaT3tG0</td>\n",
       "    </tr>\n",
       "    <tr>\n",
       "      <th>20</th>\n",
       "      <td>ypOX2@LW3mHK</td>\n",
       "    </tr>\n",
       "    <tr>\n",
       "      <th>21</th>\n",
       "      <td>G53tpPXc@HYb</td>\n",
       "    </tr>\n",
       "    <tr>\n",
       "      <th>22</th>\n",
       "      <td>v4nOWewflCO-</td>\n",
       "    </tr>\n",
       "    <tr>\n",
       "      <th>23</th>\n",
       "      <td>ttDr-dDMNo@2</td>\n",
       "    </tr>\n",
       "    <tr>\n",
       "      <th>24</th>\n",
       "      <td>gZ5EX0yDQCqB</td>\n",
       "    </tr>\n",
       "    <tr>\n",
       "      <th>25</th>\n",
       "      <td>aUq96xlou2lp</td>\n",
       "    </tr>\n",
       "    <tr>\n",
       "      <th>26</th>\n",
       "      <td>J3nwBHdb490n</td>\n",
       "    </tr>\n",
       "    <tr>\n",
       "      <th>27</th>\n",
       "      <td>oyiNkmchywqj</td>\n",
       "    </tr>\n",
       "    <tr>\n",
       "      <th>28</th>\n",
       "      <td>zE1jt2cC8yLM</td>\n",
       "    </tr>\n",
       "    <tr>\n",
       "      <th>29</th>\n",
       "      <td>s7riAUG600mz</td>\n",
       "    </tr>\n",
       "    <tr>\n",
       "      <th>...</th>\n",
       "      <td>...</td>\n",
       "    </tr>\n",
       "    <tr>\n",
       "      <th>19999970</th>\n",
       "      <td>d9775wkrXtt3</td>\n",
       "    </tr>\n",
       "    <tr>\n",
       "      <th>19999971</th>\n",
       "      <td>f8JaQ1mZoKd-</td>\n",
       "    </tr>\n",
       "    <tr>\n",
       "      <th>19999972</th>\n",
       "      <td>ciyFCMiTVGZy</td>\n",
       "    </tr>\n",
       "    <tr>\n",
       "      <th>19999973</th>\n",
       "      <td>gF67jBzvVAKA</td>\n",
       "    </tr>\n",
       "    <tr>\n",
       "      <th>19999974</th>\n",
       "      <td>4@fIjV07Lmvj</td>\n",
       "    </tr>\n",
       "    <tr>\n",
       "      <th>19999975</th>\n",
       "      <td>D0IWuzLzjnIP</td>\n",
       "    </tr>\n",
       "    <tr>\n",
       "      <th>19999976</th>\n",
       "      <td>3cJzOufIqRjd</td>\n",
       "    </tr>\n",
       "    <tr>\n",
       "      <th>19999977</th>\n",
       "      <td>uncI-Cs5kBS6</td>\n",
       "    </tr>\n",
       "    <tr>\n",
       "      <th>19999978</th>\n",
       "      <td>N7mZ7kq14hI3</td>\n",
       "    </tr>\n",
       "    <tr>\n",
       "      <th>19999979</th>\n",
       "      <td>zMksgQ72V0PM</td>\n",
       "    </tr>\n",
       "    <tr>\n",
       "      <th>19999980</th>\n",
       "      <td>d3La4wsa6kV3</td>\n",
       "    </tr>\n",
       "    <tr>\n",
       "      <th>19999981</th>\n",
       "      <td>qr2CQYXWeRGq</td>\n",
       "    </tr>\n",
       "    <tr>\n",
       "      <th>19999982</th>\n",
       "      <td>YxyoNhXZwc1j</td>\n",
       "    </tr>\n",
       "    <tr>\n",
       "      <th>19999983</th>\n",
       "      <td>zhswkJqvCMnO</td>\n",
       "    </tr>\n",
       "    <tr>\n",
       "      <th>19999984</th>\n",
       "      <td>VLsNY@r7Od5U</td>\n",
       "    </tr>\n",
       "    <tr>\n",
       "      <th>19999985</th>\n",
       "      <td>CebqQmdw6JIJ</td>\n",
       "    </tr>\n",
       "    <tr>\n",
       "      <th>19999986</th>\n",
       "      <td>1-oikAl2spbX</td>\n",
       "    </tr>\n",
       "    <tr>\n",
       "      <th>19999987</th>\n",
       "      <td>O6NOUR8UBlE7</td>\n",
       "    </tr>\n",
       "    <tr>\n",
       "      <th>19999988</th>\n",
       "      <td>F4cNgj1vvfUX</td>\n",
       "    </tr>\n",
       "    <tr>\n",
       "      <th>19999989</th>\n",
       "      <td>qiHvl6aKPo6q</td>\n",
       "    </tr>\n",
       "    <tr>\n",
       "      <th>19999990</th>\n",
       "      <td>asVMQ3H2OYlq</td>\n",
       "    </tr>\n",
       "    <tr>\n",
       "      <th>19999991</th>\n",
       "      <td>CQnhMJNwVroJ</td>\n",
       "    </tr>\n",
       "    <tr>\n",
       "      <th>19999992</th>\n",
       "      <td>GwAiSwk7JC0b</td>\n",
       "    </tr>\n",
       "    <tr>\n",
       "      <th>19999993</th>\n",
       "      <td>ZlPD0gIghiNm</td>\n",
       "    </tr>\n",
       "    <tr>\n",
       "      <th>19999994</th>\n",
       "      <td>dF8YNMeMIul0</td>\n",
       "    </tr>\n",
       "    <tr>\n",
       "      <th>19999995</th>\n",
       "      <td>IwJd@xxfn5sj</td>\n",
       "    </tr>\n",
       "    <tr>\n",
       "      <th>19999996</th>\n",
       "      <td>Kpw4lXcPv18q</td>\n",
       "    </tr>\n",
       "    <tr>\n",
       "      <th>19999997</th>\n",
       "      <td>PTeM0oFNLDg9</td>\n",
       "    </tr>\n",
       "    <tr>\n",
       "      <th>19999998</th>\n",
       "      <td>lFxSaleE9DqU</td>\n",
       "    </tr>\n",
       "    <tr>\n",
       "      <th>19999999</th>\n",
       "      <td>45T@VkD@UsHj</td>\n",
       "    </tr>\n",
       "  </tbody>\n",
       "</table>\n",
       "<p>20000000 rows × 1 columns</p>\n",
       "</div>"
      ],
      "text/plain": [
       "                     d\n",
       "0         Mb2HUt2OUrox\n",
       "1         4x8P0LdFBfnj\n",
       "2         dxbrzt3x1FF3\n",
       "3         hylnAytgLNKH\n",
       "4         Vqgsy5NMCZNW\n",
       "5         CqGeC0JtyBsK\n",
       "6         O6FYmhpli2M7\n",
       "7         4andKos28Ovh\n",
       "8         cNQMM-Y5JKlw\n",
       "9         IZqZYBgPDjUh\n",
       "10        Vzte7QpVpClX\n",
       "11        NPaJselznYE0\n",
       "12        c@4SR4gTij1z\n",
       "13        oVxlU5-eaw2h\n",
       "14        YoZ3k3xhwShi\n",
       "15        uF-4CYVFsHi4\n",
       "16        bJnOuPu2ccps\n",
       "17        LWtmvogMJlYt\n",
       "18        9GTVn5s97L30\n",
       "19        tA8pDIaT3tG0\n",
       "20        ypOX2@LW3mHK\n",
       "21        G53tpPXc@HYb\n",
       "22        v4nOWewflCO-\n",
       "23        ttDr-dDMNo@2\n",
       "24        gZ5EX0yDQCqB\n",
       "25        aUq96xlou2lp\n",
       "26        J3nwBHdb490n\n",
       "27        oyiNkmchywqj\n",
       "28        zE1jt2cC8yLM\n",
       "29        s7riAUG600mz\n",
       "...                ...\n",
       "19999970  d9775wkrXtt3\n",
       "19999971  f8JaQ1mZoKd-\n",
       "19999972  ciyFCMiTVGZy\n",
       "19999973  gF67jBzvVAKA\n",
       "19999974  4@fIjV07Lmvj\n",
       "19999975  D0IWuzLzjnIP\n",
       "19999976  3cJzOufIqRjd\n",
       "19999977  uncI-Cs5kBS6\n",
       "19999978  N7mZ7kq14hI3\n",
       "19999979  zMksgQ72V0PM\n",
       "19999980  d3La4wsa6kV3\n",
       "19999981  qr2CQYXWeRGq\n",
       "19999982  YxyoNhXZwc1j\n",
       "19999983  zhswkJqvCMnO\n",
       "19999984  VLsNY@r7Od5U\n",
       "19999985  CebqQmdw6JIJ\n",
       "19999986  1-oikAl2spbX\n",
       "19999987  O6NOUR8UBlE7\n",
       "19999988  F4cNgj1vvfUX\n",
       "19999989  qiHvl6aKPo6q\n",
       "19999990  asVMQ3H2OYlq\n",
       "19999991  CQnhMJNwVroJ\n",
       "19999992  GwAiSwk7JC0b\n",
       "19999993  ZlPD0gIghiNm\n",
       "19999994  dF8YNMeMIul0\n",
       "19999995  IwJd@xxfn5sj\n",
       "19999996  Kpw4lXcPv18q\n",
       "19999997  PTeM0oFNLDg9\n",
       "19999998  lFxSaleE9DqU\n",
       "19999999  45T@VkD@UsHj\n",
       "\n",
       "[20000000 rows x 1 columns]"
      ]
     },
     "execution_count": 46,
     "metadata": {},
     "output_type": "execute_result"
    }
   ],
   "source": [
    "id"
   ]
  },
  {
   "cell_type": "code",
   "execution_count": 47,
   "metadata": {},
   "outputs": [],
   "source": [
    "result = pd.concat([id['d'], seg['seg']],axis =1) "
   ]
  },
  {
   "cell_type": "code",
   "execution_count": 48,
   "metadata": {
    "collapsed": true
   },
   "outputs": [],
   "source": [
    "result.to_csv(\"result_IKEA.csv\")"
   ]
  },
  {
   "cell_type": "code",
   "execution_count": 49,
   "metadata": {},
   "outputs": [
    {
     "data": {
      "text/plain": [
       "segment26    3651159\n",
       "segment30    2318219\n",
       "segment31    2171912\n",
       "segment5     2043662\n",
       "segment33    1877917\n",
       "segment29    1791622\n",
       "segment8     1631085\n",
       "segment21    1108314\n",
       "segment11     715429\n",
       "segment9      688636\n",
       "segment23     429614\n",
       "segment24     412003\n",
       "segment27     393816\n",
       "segment14     252047\n",
       "segment20     147339\n",
       "segment13     113576\n",
       "segment19      97228\n",
       "segment28      88185\n",
       "segment34      68237\n",
       "Name: seg, dtype: int64"
      ]
     },
     "execution_count": 49,
     "metadata": {},
     "output_type": "execute_result"
    }
   ],
   "source": [
    "result.seg.value_counts()"
   ]
  },
  {
   "cell_type": "code",
   "execution_count": 50,
   "metadata": {},
   "outputs": [],
   "source": [
    "result[result.seg == 'segment26'].d.to_csv(\"segment26\", index=None)"
   ]
  },
  {
   "cell_type": "code",
   "execution_count": 51,
   "metadata": {
    "collapsed": true
   },
   "outputs": [],
   "source": [
    "result[result.seg == 'segment30'].d.to_csv(\"segment30\", index=None)"
   ]
  },
  {
   "cell_type": "code",
   "execution_count": 52,
   "metadata": {
    "collapsed": true
   },
   "outputs": [],
   "source": [
    "result[result.seg == 'segment31'].d.to_csv(\"segment31\", index=None)"
   ]
  },
  {
   "cell_type": "code",
   "execution_count": 53,
   "metadata": {
    "collapsed": true
   },
   "outputs": [],
   "source": [
    "result[result.seg == 'segment5'].d.to_csv(\"segment5\", index=None)"
   ]
  },
  {
   "cell_type": "code",
   "execution_count": 54,
   "metadata": {
    "collapsed": true
   },
   "outputs": [],
   "source": [
    "result[result.seg == 'segment33'].d.to_csv(\"segment33\", index=None)"
   ]
  },
  {
   "cell_type": "code",
   "execution_count": 55,
   "metadata": {
    "collapsed": true
   },
   "outputs": [],
   "source": [
    "result[result.seg == 'segment29'].d.to_csv(\"segment29\", index=None)"
   ]
  },
  {
   "cell_type": "code",
   "execution_count": 56,
   "metadata": {
    "collapsed": true
   },
   "outputs": [],
   "source": [
    "result[result.seg == 'segment8'].d.to_csv(\"segment8\", index=None)"
   ]
  },
  {
   "cell_type": "code",
   "execution_count": 57,
   "metadata": {},
   "outputs": [],
   "source": [
    "result[result.seg == 'segment21'].d.to_csv(\"segment21\", index=None)"
   ]
  },
  {
   "cell_type": "code",
   "execution_count": 58,
   "metadata": {
    "collapsed": true
   },
   "outputs": [],
   "source": [
    "result[result.seg == 'segment11'].d.to_csv(\"segment11\", index=None)"
   ]
  },
  {
   "cell_type": "code",
   "execution_count": 59,
   "metadata": {
    "collapsed": true
   },
   "outputs": [],
   "source": [
    "result[result.seg == 'segment9'].d.to_csv(\"segment9\", index=None)"
   ]
  },
  {
   "cell_type": "code",
   "execution_count": 60,
   "metadata": {
    "collapsed": true
   },
   "outputs": [],
   "source": [
    "result[result.seg == 'segment23'].d.to_csv(\"segment23\", index=None)"
   ]
  },
  {
   "cell_type": "code",
   "execution_count": 61,
   "metadata": {
    "collapsed": true
   },
   "outputs": [],
   "source": [
    "result[result.seg == 'segment24'].d.to_csv(\"segment24\", index=None)"
   ]
  },
  {
   "cell_type": "code",
   "execution_count": 62,
   "metadata": {
    "collapsed": true
   },
   "outputs": [],
   "source": [
    "result[result.seg == 'segment27'].d.to_csv(\"segment27\", index=None)"
   ]
  },
  {
   "cell_type": "code",
   "execution_count": 63,
   "metadata": {
    "collapsed": true
   },
   "outputs": [],
   "source": [
    "result[result.seg == 'segment14'].d.to_csv(\"segment14\", index=None)"
   ]
  },
  {
   "cell_type": "code",
   "execution_count": 64,
   "metadata": {
    "collapsed": true
   },
   "outputs": [],
   "source": [
    "result[result.seg == 'segment20'].d.to_csv(\"segment20\", index=None)"
   ]
  },
  {
   "cell_type": "code",
   "execution_count": 65,
   "metadata": {
    "collapsed": true
   },
   "outputs": [],
   "source": [
    "result[result.seg == 'segment13'].d.to_csv(\"segment13\", index=None)"
   ]
  },
  {
   "cell_type": "code",
   "execution_count": 66,
   "metadata": {
    "collapsed": true
   },
   "outputs": [],
   "source": [
    "result[result.seg == 'segment19'].d.to_csv(\"segment19\", index=None)"
   ]
  },
  {
   "cell_type": "code",
   "execution_count": 67,
   "metadata": {
    "collapsed": true
   },
   "outputs": [],
   "source": [
    "result[result.seg == 'segment28'].d.to_csv(\"segment28\", index=None)"
   ]
  },
  {
   "cell_type": "code",
   "execution_count": 68,
   "metadata": {
    "collapsed": true
   },
   "outputs": [],
   "source": [
    "result[result.seg == 'segment34'].d.to_csv(\"segment34\", index=None)"
   ]
  },
  {
   "cell_type": "code",
   "execution_count": null,
   "metadata": {
    "collapsed": true
   },
   "outputs": [],
   "source": []
  }
 ],
 "metadata": {
  "kernelspec": {
   "display_name": "Python 3",
   "language": "python",
   "name": "python3"
  },
  "language_info": {
   "codemirror_mode": {
    "name": "ipython",
    "version": 3
   },
   "file_extension": ".py",
   "mimetype": "text/x-python",
   "name": "python",
   "nbconvert_exporter": "python",
   "pygments_lexer": "ipython3",
   "version": "3.6.1"
  }
 },
 "nbformat": 4,
 "nbformat_minor": 2
}
