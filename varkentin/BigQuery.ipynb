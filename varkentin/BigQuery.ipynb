{
 "cells": [
  {
   "cell_type": "markdown",
   "metadata": {},
   "source": [
    "### Выгрузка из БК в ноутбук"
   ]
  },
  {
   "cell_type": "code",
   "execution_count": 1,
   "metadata": {
    "ExecuteTime": {
     "end_time": "2019-01-30T09:30:33.701667Z",
     "start_time": "2019-01-30T09:30:27.115870Z"
    }
   },
   "outputs": [
    {
     "name": "stdout",
     "output_type": "stream",
     "text": [
      "Collecting pandas-gbq\n",
      "  Downloading https://files.pythonhosted.org/packages/70/78/cd5ce606a487cf62e82784237599b332dbdf23a41aa237578d906a49bee1/pandas_gbq-0.9.0-py2.py3-none-any.whl\n",
      "Collecting google-cloud-bigquery>=0.32.0 (from pandas-gbq)\n",
      "\u001b[?25l  Downloading https://files.pythonhosted.org/packages/ce/a6/0ac91f24c73045c7b3f40fadd3f622ea2e534e0fa01a9d6e5548a9ac2faa/google_cloud_bigquery-1.8.1-py2.py3-none-any.whl (86kB)\n",
      "\u001b[K    100% |████████████████████████████████| 92kB 1.2MB/s ta 0:00:01\n",
      "\u001b[?25hRequirement already satisfied: setuptools in /home/avarkentin/python/anaconda3/lib/python3.6/site-packages (from pandas-gbq) (40.6.2)\n",
      "Requirement already satisfied: pandas in /home/avarkentin/python/anaconda3/lib/python3.6/site-packages (from pandas-gbq) (0.23.3)\n",
      "Collecting google-auth-oauthlib (from pandas-gbq)\n",
      "  Downloading https://files.pythonhosted.org/packages/46/df/d1f94ee2cffe5a83721f262efe51f3b2dcdd3b616caf007b8490e824c550/google_auth_oauthlib-0.2.0-py2.py3-none-any.whl\n",
      "Collecting pydata-google-auth (from pandas-gbq)\n",
      "  Downloading https://files.pythonhosted.org/packages/ad/93/371cfc125aface9c9d6a5b10bebd50a30548c5af2eab7398ab3bdf9720a6/pydata_google_auth-0.1.1-py2.py3-none-any.whl\n",
      "Collecting google-auth (from pandas-gbq)\n",
      "\u001b[?25l  Downloading https://files.pythonhosted.org/packages/4e/85/71b2dfbf5b4241cd031cc333ed71f90a271074a97cb2c517bb65f07a1a90/google_auth-1.6.2-py2.py3-none-any.whl (73kB)\n",
      "\u001b[K    100% |████████████████████████████████| 81kB 8.1MB/s ta 0:00:011\n",
      "\u001b[?25hCollecting google-resumable-media>=0.3.1 (from google-cloud-bigquery>=0.32.0->pandas-gbq)\n",
      "  Downloading https://files.pythonhosted.org/packages/e2/5d/4bc5c28c252a62efe69ed1a1561da92bd5af8eca0cdcdf8e60354fae9b29/google_resumable_media-0.3.2-py2.py3-none-any.whl\n",
      "Collecting google-cloud-core<0.30dev,>=0.29.0 (from google-cloud-bigquery>=0.32.0->pandas-gbq)\n",
      "  Downloading https://files.pythonhosted.org/packages/0c/f2/3c225e7a69cb27d283b68bff867722bd066bc1858611180197f711815ea5/google_cloud_core-0.29.1-py2.py3-none-any.whl\n",
      "Collecting google-api-core<2.0.0dev,>=1.6.0 (from google-cloud-bigquery>=0.32.0->pandas-gbq)\n",
      "\u001b[?25l  Downloading https://files.pythonhosted.org/packages/8b/01/13758ff9b970008ccf9e0dcc3b86d0e01937d7485b9a2c6142c9c2bdb4da/google_api_core-1.7.0-py2.py3-none-any.whl (64kB)\n",
      "\u001b[K    100% |████████████████████████████████| 71kB 4.6MB/s ta 0:00:01\n",
      "\u001b[?25hRequirement already satisfied: pytz>=2011k in /home/avarkentin/python/anaconda3/lib/python3.6/site-packages (from pandas->pandas-gbq) (2018.7)\n",
      "Requirement already satisfied: numpy>=1.9.0 in /home/avarkentin/python/anaconda3/lib/python3.6/site-packages (from pandas->pandas-gbq) (1.14.5)\n",
      "Requirement already satisfied: python-dateutil>=2.5.0 in /home/avarkentin/python/anaconda3/lib/python3.6/site-packages (from pandas->pandas-gbq) (2.7.5)\n",
      "Requirement already satisfied: requests-oauthlib>=0.7.0 in /home/avarkentin/python/anaconda3/lib/python3.6/site-packages (from google-auth-oauthlib->pandas-gbq) (1.0.0)\n",
      "Collecting cachetools>=2.0.0 (from google-auth->pandas-gbq)\n",
      "  Downloading https://files.pythonhosted.org/packages/39/2b/d87fc2369242bd743883232c463f28205902b8579cb68dcf5b11eee1652f/cachetools-3.1.0-py2.py3-none-any.whl\n",
      "Collecting rsa>=3.1.4 (from google-auth->pandas-gbq)\n",
      "  Downloading https://files.pythonhosted.org/packages/02/e5/38518af393f7c214357079ce67a317307936896e961e35450b70fad2a9cf/rsa-4.0-py2.py3-none-any.whl\n",
      "Requirement already satisfied: pyasn1-modules>=0.2.1 in /home/avarkentin/python/anaconda3/lib/python3.6/site-packages (from google-auth->pandas-gbq) (0.2.1)\n",
      "Requirement already satisfied: six>=1.9.0 in /home/avarkentin/python/anaconda3/lib/python3.6/site-packages (from google-auth->pandas-gbq) (1.11.0)\n",
      "Collecting googleapis-common-protos!=1.5.4,<2.0dev,>=1.5.3 (from google-api-core<2.0.0dev,>=1.6.0->google-cloud-bigquery>=0.32.0->pandas-gbq)\n",
      "  Downloading https://files.pythonhosted.org/packages/61/29/1549f61917eadd11650e42b78b4afcfe9cb467157af4510ab8cb59535f14/googleapis-common-protos-1.5.6.tar.gz\n",
      "Requirement already satisfied: requests<3.0.0dev,>=2.18.0 in /home/avarkentin/python/anaconda3/lib/python3.6/site-packages (from google-api-core<2.0.0dev,>=1.6.0->google-cloud-bigquery>=0.32.0->pandas-gbq) (2.20.1)\n",
      "Collecting protobuf>=3.4.0 (from google-api-core<2.0.0dev,>=1.6.0->google-cloud-bigquery>=0.32.0->pandas-gbq)\n",
      "\u001b[?25l  Downloading https://files.pythonhosted.org/packages/c2/f9/28787754923612ca9bfdffc588daa05580ed70698add063a5629d1a4209d/protobuf-3.6.1-cp36-cp36m-manylinux1_x86_64.whl (1.1MB)\n",
      "\u001b[K    100% |████████████████████████████████| 1.1MB 3.1MB/s ta 0:00:011    98% |███████████████████████████████▌| 1.1MB 4.1MB/s eta 0:00:01\n",
      "\u001b[?25hRequirement already satisfied: oauthlib>=0.6.2 in /home/avarkentin/python/anaconda3/lib/python3.6/site-packages (from requests-oauthlib>=0.7.0->google-auth-oauthlib->pandas-gbq) (2.1.0)\n",
      "Requirement already satisfied: pyasn1>=0.1.3 in /home/avarkentin/python/anaconda3/lib/python3.6/site-packages (from rsa>=3.1.4->google-auth->pandas-gbq) (0.4.4)\n",
      "Requirement already satisfied: chardet<3.1.0,>=3.0.2 in /home/avarkentin/python/anaconda3/lib/python3.6/site-packages (from requests<3.0.0dev,>=2.18.0->google-api-core<2.0.0dev,>=1.6.0->google-cloud-bigquery>=0.32.0->pandas-gbq) (3.0.4)\n",
      "Requirement already satisfied: urllib3<1.25,>=1.21.1 in /home/avarkentin/python/anaconda3/lib/python3.6/site-packages (from requests<3.0.0dev,>=2.18.0->google-api-core<2.0.0dev,>=1.6.0->google-cloud-bigquery>=0.32.0->pandas-gbq) (1.23)\n",
      "Requirement already satisfied: idna<2.8,>=2.5 in /home/avarkentin/python/anaconda3/lib/python3.6/site-packages (from requests<3.0.0dev,>=2.18.0->google-api-core<2.0.0dev,>=1.6.0->google-cloud-bigquery>=0.32.0->pandas-gbq) (2.7)\n",
      "Requirement already satisfied: certifi>=2017.4.17 in /home/avarkentin/python/anaconda3/lib/python3.6/site-packages (from requests<3.0.0dev,>=2.18.0->google-api-core<2.0.0dev,>=1.6.0->google-cloud-bigquery>=0.32.0->pandas-gbq) (2018.11.29)\n",
      "Building wheels for collected packages: googleapis-common-protos\n",
      "  Running setup.py bdist_wheel for googleapis-common-protos ... \u001b[?25ldone\n",
      "\u001b[?25h  Stored in directory: /home/avarkentin/.cache/pip/wheels/da/6b/81/8573adcbe2aa2ecba92c341dfe19c5b5a733f4514297ba52b4\n",
      "Successfully built googleapis-common-protos\n",
      "Installing collected packages: google-resumable-media, protobuf, googleapis-common-protos, cachetools, rsa, google-auth, google-api-core, google-cloud-core, google-cloud-bigquery, google-auth-oauthlib, pydata-google-auth, pandas-gbq\n",
      "Successfully installed cachetools-3.1.0 google-api-core-1.7.0 google-auth-1.6.2 google-auth-oauthlib-0.2.0 google-cloud-bigquery-1.8.1 google-cloud-core-0.29.1 google-resumable-media-0.3.2 googleapis-common-protos-1.5.6 pandas-gbq-0.9.0 protobuf-3.6.1 pydata-google-auth-0.1.1 rsa-4.0\n"
     ]
    }
   ],
   "source": [
    "!pip install pandas-gbq"
   ]
  },
  {
   "cell_type": "code",
   "execution_count": 6,
   "metadata": {
    "ExecuteTime": {
     "end_time": "2019-02-13T07:06:15.425479Z",
     "start_time": "2019-02-13T07:06:15.408045Z"
    }
   },
   "outputs": [],
   "source": [
    "import pandas as pd\n",
    "from google.oauth2 import service_account"
   ]
  },
  {
   "cell_type": "code",
   "execution_count": 7,
   "metadata": {
    "ExecuteTime": {
     "end_time": "2019-02-13T07:06:15.973688Z",
     "start_time": "2019-02-13T07:06:15.965859Z"
    }
   },
   "outputs": [],
   "source": [
    "# Прописываем адрес к файлу с данными по сервисному аккаунту и получаем credentials для доступа к данным\n",
    "credentials = service_account.Credentials.from_service_account_file(\n",
    "    'ru-dataservices-ce567915256b.json')#ключ на компе от гугла"
   ]
  },
  {
   "cell_type": "markdown",
   "metadata": {},
   "source": [
    "ТРЕНИРУЕМСЯ"
   ]
  },
  {
   "cell_type": "code",
   "execution_count": 6,
   "metadata": {
    "ExecuteTime": {
     "end_time": "2019-01-30T09:34:20.408645Z",
     "start_time": "2019-01-30T09:34:20.392256Z"
    }
   },
   "outputs": [],
   "source": [
    "# Формируем запрос и получаем количество вопросов с тегом \"pandas\", сгруппированные по дате создания\n",
    "query = '''\n",
    "SELECT DATE(creation_date) as date, COUNT(id) as questions\n",
    "FROM\n",
    "  [bigquery-public-data:stackoverflow.posts_questions]\n",
    "WHERE tags LIKE '%pandas%'\n",
    "GROUP BY\n",
    "  date\n",
    "'''\n",
    "\n",
    "# Указываем идентификатор проекта\n",
    "project_id = 'ru-dataservices'"
   ]
  },
  {
   "cell_type": "code",
   "execution_count": 7,
   "metadata": {
    "ExecuteTime": {
     "end_time": "2019-01-30T09:34:25.558782Z",
     "start_time": "2019-01-30T09:34:20.937894Z"
    }
   },
   "outputs": [
    {
     "data": {
      "text/html": [
       "<div>\n",
       "<style scoped>\n",
       "    .dataframe tbody tr th:only-of-type {\n",
       "        vertical-align: middle;\n",
       "    }\n",
       "\n",
       "    .dataframe tbody tr th {\n",
       "        vertical-align: top;\n",
       "    }\n",
       "\n",
       "    .dataframe thead th {\n",
       "        text-align: right;\n",
       "    }\n",
       "</style>\n",
       "<table border=\"1\" class=\"dataframe\">\n",
       "  <thead>\n",
       "    <tr style=\"text-align: right;\">\n",
       "      <th></th>\n",
       "      <th>date</th>\n",
       "      <th>questions</th>\n",
       "    </tr>\n",
       "  </thead>\n",
       "  <tbody>\n",
       "    <tr>\n",
       "      <th>0</th>\n",
       "      <td>2017-09-04</td>\n",
       "      <td>57</td>\n",
       "    </tr>\n",
       "    <tr>\n",
       "      <th>1</th>\n",
       "      <td>2013-05-26</td>\n",
       "      <td>7</td>\n",
       "    </tr>\n",
       "    <tr>\n",
       "      <th>2</th>\n",
       "      <td>2018-09-19</td>\n",
       "      <td>114</td>\n",
       "    </tr>\n",
       "    <tr>\n",
       "      <th>3</th>\n",
       "      <td>2018-09-02</td>\n",
       "      <td>54</td>\n",
       "    </tr>\n",
       "    <tr>\n",
       "      <th>4</th>\n",
       "      <td>2016-12-07</td>\n",
       "      <td>71</td>\n",
       "    </tr>\n",
       "  </tbody>\n",
       "</table>\n",
       "</div>"
      ],
      "text/plain": [
       "         date  questions\n",
       "0  2017-09-04         57\n",
       "1  2013-05-26          7\n",
       "2  2018-09-19        114\n",
       "3  2018-09-02         54\n",
       "4  2016-12-07         71"
      ]
     },
     "metadata": {},
     "output_type": "display_data"
    }
   ],
   "source": [
    "# Выполняем запрос, записывая результат в dataframe\n",
    "df = pd.read_gbq(query, project_id=project_id, credentials=credentials)\n",
    "\n",
    "display(df.head(5))"
   ]
  },
  {
   "cell_type": "code",
   "execution_count": 8,
   "metadata": {
    "ExecuteTime": {
     "end_time": "2019-01-30T09:34:40.747544Z",
     "start_time": "2019-01-30T09:34:40.729771Z"
    }
   },
   "outputs": [
    {
     "name": "stdout",
     "output_type": "stream",
     "text": [
      "<class 'pandas.core.frame.DataFrame'>\n",
      "RangeIndex: 2430 entries, 0 to 2429\n",
      "Data columns (total 2 columns):\n",
      "date         2430 non-null object\n",
      "questions    2430 non-null int64\n",
      "dtypes: int64(1), object(1)\n",
      "memory usage: 38.0+ KB\n"
     ]
    }
   ],
   "source": [
    "df.info()"
   ]
  },
  {
   "cell_type": "markdown",
   "metadata": {},
   "source": [
    "БОЕВОЙ ЗАПРОС"
   ]
  },
  {
   "cell_type": "code",
   "execution_count": 34,
   "metadata": {
    "ExecuteTime": {
     "end_time": "2019-01-30T09:52:22.983620Z",
     "start_time": "2019-01-30T09:52:22.977423Z"
    }
   },
   "outputs": [],
   "source": [
    "query = '''\n",
    "#standardSQL\n",
    "\n",
    "SELECT \n",
    "event.a_afficheW\n",
    ",event.a_c_gt_Banking\n",
    ",event.a_c_gt_Real_estate\n",
    ",event.a_c_gt_Good_deals\n",
    ",event.a_c_gt_Furniture\n",
    ",event.a_c_gt_Tennis\n",
    ",event.a_c_gt_Building_and_civil_engineering\n",
    ",event.a_c_gt_Entrepreneur\n",
    ",event.a_c_gt_Family\n",
    ",event.a_c_gt_Finance\n",
    ",event.a_c_gt_Marriage_civil_union\n",
    ",event.a_c_gt_Loans\n",
    ",event.a_c_gt_Interior_design\n",
    ",event.a_c_gt_Asset_management\n",
    ",event.a_c_gt_Business_Administration_and_Management\n",
    ",event.a_c_gt_Car_buyers\n",
    ",event.a_c_gt_Careers_and_occupational_training\n",
    ",event.a_c_gt_Catchup_TV\n",
    ",event.a_c_gt_Weather\n",
    ",event.a_c_gt_Winter_Holidays\n",
    ",event.a_c_gt_Children\n",
    ",event.a_c_gt_Soccer\n",
    ",event.a_c_gt_Games_consoles\n",
    ",event.a_c_gt_Cloud_computing\n",
    ",event.a_c_gt_Churn_Telecom\n",
    ",event.a_c_gt_Car_Rental\n",
    ",event.a_c_gt_Clothing\n",
    ",event.a_c_gt_Fruits_and_vegetables\n",
    ",event.a_s_a_11_14\n",
    ",event.a_s_a_15_17\n",
    ",event.a_s_a_18_24\n",
    ",event.a_s_a_25_34\n",
    ",event.a_s_a_35_49\n",
    ",event.a_s_a_50_64\n",
    ",event.a_s_a_65_110\n",
    ",event.a_s_g_m\n",
    ",event.a_s_g_f\n",
    ",event.a_s_s_i\n",
    ",event.a_s_i_0\n",
    ",event.a_s_i_1\n",
    ",event.a_s_i_2\n",
    ",event.a_s_i_3\n",
    ",event.a_s_i_4\n",
    ",event.a_latitude\n",
    ",event.a_longitude\n",
    ",event.a_s_e_po\n",
    ",event.a_s_e_pr\n",
    ",event.a_s_e_s\n",
    ",event.a_s_e_u\n",
    "\n",
    "\n",
    "FROM (\n",
    "  SELECT ARRAY_AGG(t ORDER BY t.a_insert_time DESC LIMIT 1)\n",
    "    [OFFSET(0)] event\n",
    "  FROM \n",
    "    `ru-dataservices.BIGSEA_EU.RU_uu_2019*` t \n",
    "  WHERE _table_suffix BETWEEN '0101' AND '0125'\n",
    "  \n",
    "  GROUP BY a_afficheW\n",
    ")\n",
    "INNER JOIN\n",
    "  --Uploaded cookies\n",
    "  `ru-dataservices.result.ID_MIC_cookies` mic\n",
    "ON\n",
    "  --Key field\n",
    "  event.a_afficheW = mic.string_field_0\n",
    "ORDER BY \n",
    "  a_afficheW\n",
    "LIMIT 1000\n",
    "'''\n",
    "\n",
    "# Указываем идентификатор проекта\n",
    "project_id = 'ru-dataservices'"
   ]
  },
  {
   "cell_type": "code",
   "execution_count": 35,
   "metadata": {
    "ExecuteTime": {
     "end_time": "2019-01-30T09:54:52.433965Z",
     "start_time": "2019-01-30T09:52:23.411567Z"
    }
   },
   "outputs": [
    {
     "data": {
      "text/html": [
       "<div>\n",
       "<style scoped>\n",
       "    .dataframe tbody tr th:only-of-type {\n",
       "        vertical-align: middle;\n",
       "    }\n",
       "\n",
       "    .dataframe tbody tr th {\n",
       "        vertical-align: top;\n",
       "    }\n",
       "\n",
       "    .dataframe thead th {\n",
       "        text-align: right;\n",
       "    }\n",
       "</style>\n",
       "<table border=\"1\" class=\"dataframe\">\n",
       "  <thead>\n",
       "    <tr style=\"text-align: right;\">\n",
       "      <th></th>\n",
       "      <th>a_afficheW</th>\n",
       "      <th>a_c_gt_Banking</th>\n",
       "      <th>a_c_gt_Real_estate</th>\n",
       "      <th>a_c_gt_Good_deals</th>\n",
       "      <th>a_c_gt_Furniture</th>\n",
       "      <th>a_c_gt_Tennis</th>\n",
       "      <th>a_c_gt_Building_and_civil_engineering</th>\n",
       "      <th>a_c_gt_Entrepreneur</th>\n",
       "      <th>a_c_gt_Family</th>\n",
       "      <th>a_c_gt_Finance</th>\n",
       "      <th>...</th>\n",
       "      <th>a_s_i_1</th>\n",
       "      <th>a_s_i_2</th>\n",
       "      <th>a_s_i_3</th>\n",
       "      <th>a_s_i_4</th>\n",
       "      <th>a_latitude</th>\n",
       "      <th>a_longitude</th>\n",
       "      <th>a_s_e_po</th>\n",
       "      <th>a_s_e_pr</th>\n",
       "      <th>a_s_e_s</th>\n",
       "      <th>a_s_e_u</th>\n",
       "    </tr>\n",
       "  </thead>\n",
       "  <tbody>\n",
       "    <tr>\n",
       "      <th>0</th>\n",
       "      <td>084M98T3jaDT</td>\n",
       "      <td>19.0</td>\n",
       "      <td>NaN</td>\n",
       "      <td>NaN</td>\n",
       "      <td>NaN</td>\n",
       "      <td>NaN</td>\n",
       "      <td>NaN</td>\n",
       "      <td>NaN</td>\n",
       "      <td>NaN</td>\n",
       "      <td>NaN</td>\n",
       "      <td>...</td>\n",
       "      <td>1</td>\n",
       "      <td>1</td>\n",
       "      <td>9</td>\n",
       "      <td>13</td>\n",
       "      <td>52.7185</td>\n",
       "      <td>41.4266</td>\n",
       "      <td>NaN</td>\n",
       "      <td>13</td>\n",
       "      <td>20</td>\n",
       "      <td>19</td>\n",
       "    </tr>\n",
       "    <tr>\n",
       "      <th>1</th>\n",
       "      <td>1Qn4rkJ@EEHV</td>\n",
       "      <td>9.0</td>\n",
       "      <td>9.0</td>\n",
       "      <td>NaN</td>\n",
       "      <td>NaN</td>\n",
       "      <td>13.0</td>\n",
       "      <td>NaN</td>\n",
       "      <td>8.0</td>\n",
       "      <td>13.0</td>\n",
       "      <td>NaN</td>\n",
       "      <td>...</td>\n",
       "      <td>4</td>\n",
       "      <td>8</td>\n",
       "      <td>18</td>\n",
       "      <td>17</td>\n",
       "      <td>55.5913</td>\n",
       "      <td>37.7428</td>\n",
       "      <td>NaN</td>\n",
       "      <td>18</td>\n",
       "      <td>4</td>\n",
       "      <td>7</td>\n",
       "    </tr>\n",
       "    <tr>\n",
       "      <th>2</th>\n",
       "      <td>FNQcwgbenY4U</td>\n",
       "      <td>18.0</td>\n",
       "      <td>16.0</td>\n",
       "      <td>11.0</td>\n",
       "      <td>NaN</td>\n",
       "      <td>9.0</td>\n",
       "      <td>NaN</td>\n",
       "      <td>NaN</td>\n",
       "      <td>3.0</td>\n",
       "      <td>15.0</td>\n",
       "      <td>...</td>\n",
       "      <td>4</td>\n",
       "      <td>16</td>\n",
       "      <td>12</td>\n",
       "      <td>8</td>\n",
       "      <td>55.8602</td>\n",
       "      <td>37.5169</td>\n",
       "      <td>9.0</td>\n",
       "      <td>6</td>\n",
       "      <td>5</td>\n",
       "      <td>10</td>\n",
       "    </tr>\n",
       "    <tr>\n",
       "      <th>3</th>\n",
       "      <td>GIqveNtC9-8Y</td>\n",
       "      <td>19.0</td>\n",
       "      <td>19.0</td>\n",
       "      <td>12.0</td>\n",
       "      <td>19.0</td>\n",
       "      <td>2.0</td>\n",
       "      <td>NaN</td>\n",
       "      <td>1.0</td>\n",
       "      <td>NaN</td>\n",
       "      <td>11.0</td>\n",
       "      <td>...</td>\n",
       "      <td>19</td>\n",
       "      <td>2</td>\n",
       "      <td>18</td>\n",
       "      <td>18</td>\n",
       "      <td>55.7359</td>\n",
       "      <td>37.6330</td>\n",
       "      <td>1.0</td>\n",
       "      <td>16</td>\n",
       "      <td>17</td>\n",
       "      <td>1</td>\n",
       "    </tr>\n",
       "    <tr>\n",
       "      <th>4</th>\n",
       "      <td>JNOhAbovLlQk</td>\n",
       "      <td>17.0</td>\n",
       "      <td>NaN</td>\n",
       "      <td>NaN</td>\n",
       "      <td>13.0</td>\n",
       "      <td>NaN</td>\n",
       "      <td>NaN</td>\n",
       "      <td>19.0</td>\n",
       "      <td>9.0</td>\n",
       "      <td>7.0</td>\n",
       "      <td>...</td>\n",
       "      <td>8</td>\n",
       "      <td>8</td>\n",
       "      <td>10</td>\n",
       "      <td>5</td>\n",
       "      <td>55.7616</td>\n",
       "      <td>37.6411</td>\n",
       "      <td>1.0</td>\n",
       "      <td>7</td>\n",
       "      <td>16</td>\n",
       "      <td>16</td>\n",
       "    </tr>\n",
       "  </tbody>\n",
       "</table>\n",
       "<p>5 rows × 49 columns</p>\n",
       "</div>"
      ],
      "text/plain": [
       "     a_afficheW  a_c_gt_Banking  a_c_gt_Real_estate  a_c_gt_Good_deals  \\\n",
       "0  084M98T3jaDT            19.0                 NaN                NaN   \n",
       "1  1Qn4rkJ@EEHV             9.0                 9.0                NaN   \n",
       "2  FNQcwgbenY4U            18.0                16.0               11.0   \n",
       "3  GIqveNtC9-8Y            19.0                19.0               12.0   \n",
       "4  JNOhAbovLlQk            17.0                 NaN                NaN   \n",
       "\n",
       "   a_c_gt_Furniture  a_c_gt_Tennis  a_c_gt_Building_and_civil_engineering  \\\n",
       "0               NaN            NaN                                    NaN   \n",
       "1               NaN           13.0                                    NaN   \n",
       "2               NaN            9.0                                    NaN   \n",
       "3              19.0            2.0                                    NaN   \n",
       "4              13.0            NaN                                    NaN   \n",
       "\n",
       "   a_c_gt_Entrepreneur  a_c_gt_Family  a_c_gt_Finance   ...     a_s_i_1  \\\n",
       "0                  NaN            NaN             NaN   ...           1   \n",
       "1                  8.0           13.0             NaN   ...           4   \n",
       "2                  NaN            3.0            15.0   ...           4   \n",
       "3                  1.0            NaN            11.0   ...          19   \n",
       "4                 19.0            9.0             7.0   ...           8   \n",
       "\n",
       "   a_s_i_2  a_s_i_3  a_s_i_4  a_latitude  a_longitude  a_s_e_po  a_s_e_pr  \\\n",
       "0        1        9       13     52.7185      41.4266       NaN        13   \n",
       "1        8       18       17     55.5913      37.7428       NaN        18   \n",
       "2       16       12        8     55.8602      37.5169       9.0         6   \n",
       "3        2       18       18     55.7359      37.6330       1.0        16   \n",
       "4        8       10        5     55.7616      37.6411       1.0         7   \n",
       "\n",
       "   a_s_e_s  a_s_e_u  \n",
       "0       20       19  \n",
       "1        4        7  \n",
       "2        5       10  \n",
       "3       17        1  \n",
       "4       16       16  \n",
       "\n",
       "[5 rows x 49 columns]"
      ]
     },
     "metadata": {},
     "output_type": "display_data"
    }
   ],
   "source": [
    "#установил диалект стандартный скл, чтоб не выдавал ошибку\n",
    "df1 = pd.read_gbq(query, project_id=project_id, credentials=credentials, dialect = 'standard')\n",
    "\n",
    "display(df1.head(5))"
   ]
  },
  {
   "cell_type": "markdown",
   "metadata": {},
   "source": [
    "Радуемся собственной охеренности"
   ]
  },
  {
   "cell_type": "markdown",
   "metadata": {},
   "source": [
    "### Загрузка в БК с ноутбука"
   ]
  },
  {
   "cell_type": "code",
   "execution_count": 37,
   "metadata": {
    "ExecuteTime": {
     "end_time": "2019-01-30T13:04:06.453875Z",
     "start_time": "2019-01-30T13:04:06.443397Z"
    }
   },
   "outputs": [
    {
     "data": {
      "text/html": [
       "<div>\n",
       "<style scoped>\n",
       "    .dataframe tbody tr th:only-of-type {\n",
       "        vertical-align: middle;\n",
       "    }\n",
       "\n",
       "    .dataframe tbody tr th {\n",
       "        vertical-align: top;\n",
       "    }\n",
       "\n",
       "    .dataframe thead th {\n",
       "        text-align: right;\n",
       "    }\n",
       "</style>\n",
       "<table border=\"1\" class=\"dataframe\">\n",
       "  <thead>\n",
       "    <tr style=\"text-align: right;\">\n",
       "      <th></th>\n",
       "      <th>date</th>\n",
       "      <th>questions</th>\n",
       "    </tr>\n",
       "  </thead>\n",
       "  <tbody>\n",
       "    <tr>\n",
       "      <th>0</th>\n",
       "      <td>2017-09-04</td>\n",
       "      <td>57</td>\n",
       "    </tr>\n",
       "    <tr>\n",
       "      <th>1</th>\n",
       "      <td>2013-05-26</td>\n",
       "      <td>7</td>\n",
       "    </tr>\n",
       "    <tr>\n",
       "      <th>2</th>\n",
       "      <td>2018-09-19</td>\n",
       "      <td>114</td>\n",
       "    </tr>\n",
       "    <tr>\n",
       "      <th>3</th>\n",
       "      <td>2018-09-02</td>\n",
       "      <td>54</td>\n",
       "    </tr>\n",
       "    <tr>\n",
       "      <th>4</th>\n",
       "      <td>2016-12-07</td>\n",
       "      <td>71</td>\n",
       "    </tr>\n",
       "  </tbody>\n",
       "</table>\n",
       "</div>"
      ],
      "text/plain": [
       "         date  questions\n",
       "0  2017-09-04         57\n",
       "1  2013-05-26          7\n",
       "2  2018-09-19        114\n",
       "3  2018-09-02         54\n",
       "4  2016-12-07         71"
      ]
     },
     "execution_count": 37,
     "metadata": {},
     "output_type": "execute_result"
    }
   ],
   "source": [
    "df.head()"
   ]
  },
  {
   "cell_type": "code",
   "execution_count": 39,
   "metadata": {
    "ExecuteTime": {
     "end_time": "2019-01-30T13:09:55.416628Z",
     "start_time": "2019-01-30T13:09:44.680611Z"
    }
   },
   "outputs": [
    {
     "name": "stderr",
     "output_type": "stream",
     "text": [
      "1it [00:08,  8.53s/it]\n"
     ]
    }
   ],
   "source": [
    "df.to_gbq('result.test_BQ', project_id=project_id, if_exists='fail', private_key='ru-dataservices-ce567915256b.json')"
   ]
  },
  {
   "cell_type": "markdown",
   "metadata": {},
   "source": [
    "### Google Storage: загрузка и выгрузка"
   ]
  },
  {
   "cell_type": "code",
   "execution_count": 41,
   "metadata": {
    "ExecuteTime": {
     "end_time": "2019-01-30T13:19:52.044564Z",
     "start_time": "2019-01-30T13:19:49.580942Z"
    }
   },
   "outputs": [
    {
     "name": "stdout",
     "output_type": "stream",
     "text": [
      "Collecting google-cloud-storage\n",
      "\u001b[?25l  Downloading https://files.pythonhosted.org/packages/92/da/115f23ba9aa56f4d5de3f02306a36eb6d0884561e0059987865cb0cce42e/google_cloud_storage-1.13.2-py2.py3-none-any.whl (59kB)\n",
      "\u001b[K    100% |████████████████████████████████| 61kB 733kB/s ta 0:00:011\n",
      "\u001b[?25hRequirement already satisfied: google-resumable-media>=0.3.1 in /home/avarkentin/python/anaconda3/lib/python3.6/site-packages (from google-cloud-storage) (0.3.2)\n",
      "Requirement already satisfied: google-api-core<2.0.0dev,>=1.6.0 in /home/avarkentin/python/anaconda3/lib/python3.6/site-packages (from google-cloud-storage) (1.7.0)\n",
      "Requirement already satisfied: google-cloud-core<0.30dev,>=0.29.0 in /home/avarkentin/python/anaconda3/lib/python3.6/site-packages (from google-cloud-storage) (0.29.1)\n",
      "Requirement already satisfied: six in /home/avarkentin/python/anaconda3/lib/python3.6/site-packages (from google-resumable-media>=0.3.1->google-cloud-storage) (1.11.0)\n",
      "Requirement already satisfied: requests<3.0.0dev,>=2.18.0 in /home/avarkentin/python/anaconda3/lib/python3.6/site-packages (from google-api-core<2.0.0dev,>=1.6.0->google-cloud-storage) (2.20.1)\n",
      "Requirement already satisfied: googleapis-common-protos!=1.5.4,<2.0dev,>=1.5.3 in /home/avarkentin/python/anaconda3/lib/python3.6/site-packages (from google-api-core<2.0.0dev,>=1.6.0->google-cloud-storage) (1.5.6)\n",
      "Requirement already satisfied: setuptools>=34.0.0 in /home/avarkentin/python/anaconda3/lib/python3.6/site-packages (from google-api-core<2.0.0dev,>=1.6.0->google-cloud-storage) (40.6.2)\n",
      "Requirement already satisfied: pytz in /home/avarkentin/python/anaconda3/lib/python3.6/site-packages (from google-api-core<2.0.0dev,>=1.6.0->google-cloud-storage) (2018.7)\n",
      "Requirement already satisfied: google-auth<2.0dev,>=0.4.0 in /home/avarkentin/python/anaconda3/lib/python3.6/site-packages (from google-api-core<2.0.0dev,>=1.6.0->google-cloud-storage) (1.6.2)\n",
      "Requirement already satisfied: protobuf>=3.4.0 in /home/avarkentin/python/anaconda3/lib/python3.6/site-packages (from google-api-core<2.0.0dev,>=1.6.0->google-cloud-storage) (3.6.1)\n",
      "Requirement already satisfied: certifi>=2017.4.17 in /home/avarkentin/python/anaconda3/lib/python3.6/site-packages (from requests<3.0.0dev,>=2.18.0->google-api-core<2.0.0dev,>=1.6.0->google-cloud-storage) (2018.11.29)\n",
      "Requirement already satisfied: chardet<3.1.0,>=3.0.2 in /home/avarkentin/python/anaconda3/lib/python3.6/site-packages (from requests<3.0.0dev,>=2.18.0->google-api-core<2.0.0dev,>=1.6.0->google-cloud-storage) (3.0.4)\n",
      "Requirement already satisfied: urllib3<1.25,>=1.21.1 in /home/avarkentin/python/anaconda3/lib/python3.6/site-packages (from requests<3.0.0dev,>=2.18.0->google-api-core<2.0.0dev,>=1.6.0->google-cloud-storage) (1.23)\n",
      "Requirement already satisfied: idna<2.8,>=2.5 in /home/avarkentin/python/anaconda3/lib/python3.6/site-packages (from requests<3.0.0dev,>=2.18.0->google-api-core<2.0.0dev,>=1.6.0->google-cloud-storage) (2.7)\n",
      "Requirement already satisfied: rsa>=3.1.4 in /home/avarkentin/python/anaconda3/lib/python3.6/site-packages (from google-auth<2.0dev,>=0.4.0->google-api-core<2.0.0dev,>=1.6.0->google-cloud-storage) (4.0)\n",
      "Requirement already satisfied: cachetools>=2.0.0 in /home/avarkentin/python/anaconda3/lib/python3.6/site-packages (from google-auth<2.0dev,>=0.4.0->google-api-core<2.0.0dev,>=1.6.0->google-cloud-storage) (3.1.0)\n",
      "Requirement already satisfied: pyasn1-modules>=0.2.1 in /home/avarkentin/python/anaconda3/lib/python3.6/site-packages (from google-auth<2.0dev,>=0.4.0->google-api-core<2.0.0dev,>=1.6.0->google-cloud-storage) (0.2.1)\n",
      "Requirement already satisfied: pyasn1>=0.1.3 in /home/avarkentin/python/anaconda3/lib/python3.6/site-packages (from rsa>=3.1.4->google-auth<2.0dev,>=0.4.0->google-api-core<2.0.0dev,>=1.6.0->google-cloud-storage) (0.4.4)\n",
      "Installing collected packages: google-cloud-storage\n",
      "Successfully installed google-cloud-storage-1.13.2\n"
     ]
    }
   ],
   "source": [
    "!pip install google-cloud-storage"
   ]
  },
  {
   "cell_type": "code",
   "execution_count": 4,
   "metadata": {
    "ExecuteTime": {
     "end_time": "2019-02-13T07:05:28.903093Z",
     "start_time": "2019-02-13T07:05:27.937355Z"
    }
   },
   "outputs": [
    {
     "name": "stdout",
     "output_type": "stream",
     "text": [
      "<Bucket: cohort_mr>\n",
      "<Bucket: data_nespresso>\n",
      "<Bucket: ikea_segments>\n",
      "<Bucket: mic_development>\n",
      "<Bucket: mvid>\n",
      "<Bucket: nestle_dogs>\n",
      "<Bucket: nestle_pro>\n",
      "<Bucket: q4_unilever>\n",
      "<Bucket: rc_dashboard>\n",
      "<Bucket: tapaddata>\n",
      "<Bucket: uaz>\n"
     ]
    }
   ],
   "source": [
    "#list of buckets\n",
    "import os\n",
    "from google.cloud import storage\n",
    "\n",
    "os.environ['GOOGLE_APPLICATION_CREDENTIALS'] = \"/home/avarkentin/Загрузки/ru-dataservices-ce567915256b.json\"\n",
    "\n",
    "# Instantiates a client\n",
    "storage_client = storage.Client()\n",
    "\n",
    "# List all the buckets available\n",
    "for bucket in storage_client.list_buckets():\n",
    "    print(bucket)"
   ]
  },
  {
   "cell_type": "code",
   "execution_count": 68,
   "metadata": {
    "ExecuteTime": {
     "end_time": "2019-01-30T13:46:10.751919Z",
     "start_time": "2019-01-30T13:46:07.229365Z"
    }
   },
   "outputs": [
    {
     "name": "stdout",
     "output_type": "stream",
     "text": [
      "<Blob: uaz, patriot1_000000000000>\n",
      "<Blob: uaz, patriot2_000000000000>\n",
      "<Blob: uaz, patriot_1_decr.csv>\n",
      "<Blob: uaz, patriot_2_decr.csv>\n",
      "<Blob: uaz, pro_1_decr.csv>\n",
      "<Blob: uaz, pro_1_rich>\n",
      "<Blob: uaz, pro_2_decr.csv>\n",
      "<Blob: uaz, pro_2_rich>\n",
      "<Blob: uaz, uaz_clust_rich>\n"
     ]
    }
   ],
   "source": [
    "#качаем на комп\n",
    "\n",
    "# client = storage.Client(credentials=credentials, project='myproject')\n",
    "bucket = storage_client.get_bucket('uaz')\n",
    "blob = bucket.get_blob('uaz_clust_rich')\n",
    "for i in bucket.list_blobs():\n",
    "    print(i)\n",
    "\n",
    "blob.download_to_filename('uaz_clust_rich2')#имя под которым сохраняем на комп, дата на компе файла будет та, что в хранилище"
   ]
  },
  {
   "cell_type": "code",
   "execution_count": 69,
   "metadata": {
    "ExecuteTime": {
     "end_time": "2019-01-30T13:51:10.147159Z",
     "start_time": "2019-01-30T13:51:07.523370Z"
    }
   },
   "outputs": [
    {
     "name": "stdout",
     "output_type": "stream",
     "text": [
      "<Blob: uaz, patriot1_000000000000>\n",
      "<Blob: uaz, patriot2_000000000000>\n",
      "<Blob: uaz, patriot_1_decr.csv>\n",
      "<Blob: uaz, patriot_2_decr.csv>\n",
      "<Blob: uaz, pro_1_decr.csv>\n",
      "<Blob: uaz, pro_1_rich>\n",
      "<Blob: uaz, pro_2_decr.csv>\n",
      "<Blob: uaz, pro_2_rich>\n",
      "<Blob: uaz, test2>\n",
      "<Blob: uaz, uaz_clust_rich>\n"
     ]
    }
   ],
   "source": [
    "bucket = storage_client.get_bucket('uaz')\n",
    "blob = bucket.blob('test2') #имя для хранилища\n",
    "blob.upload_from_filename('uaz_clust_rich2')# имя файла на компе\n",
    "\n",
    "for i in bucket.list_blobs():#список файлов в хранилище\n",
    "    print(i)\n",
    "\n",
    "\n",
    "\n"
   ]
  },
  {
   "cell_type": "markdown",
   "metadata": {},
   "source": [
    "### Запрос в БК и передача результатов в ГКС"
   ]
  },
  {
   "cell_type": "code",
   "execution_count": 70,
   "metadata": {
    "ExecuteTime": {
     "end_time": "2019-01-30T14:20:29.929773Z",
     "start_time": "2019-01-30T14:20:24.854318Z"
    }
   },
   "outputs": [
    {
     "name": "stdout",
     "output_type": "stream",
     "text": [
      "Collecting bigquery-python\n",
      "  Downloading https://files.pythonhosted.org/packages/1e/8c/b5a5ec57ff400f2f7ad1847bcefd09777154e633297a8657bb44699f9fdc/BigQuery-Python-1.14.1.tar.gz\n",
      "Collecting google-api-python-client (from bigquery-python)\n",
      "\u001b[?25l  Downloading https://files.pythonhosted.org/packages/55/e9/e8fb2e3a031cb69b9524b80a92b126665d9a17421700a219555e3233ab6a/google_api_python_client-1.7.8-py3-none-any.whl (56kB)\n",
      "\u001b[K    100% |████████████████████████████████| 61kB 1.5MB/s ta 0:00:011\n",
      "\u001b[?25hCollecting httplib2 (from bigquery-python)\n",
      "\u001b[?25l  Downloading https://files.pythonhosted.org/packages/ce/ed/803905d670b52fa0edfdd135337e545b4496c2ab3a222f1449b7256eb99f/httplib2-0.12.0.tar.gz (218kB)\n",
      "\u001b[K    100% |████████████████████████████████| 225kB 6.5MB/s ta 0:00:01\n",
      "\u001b[?25hRequirement already satisfied: python-dateutil in /home/avarkentin/python/anaconda3/lib/python3.6/site-packages (from bigquery-python) (2.7.5)\n",
      "Requirement already satisfied: six<2dev,>=1.6.1 in /home/avarkentin/python/anaconda3/lib/python3.6/site-packages (from google-api-python-client->bigquery-python) (1.11.0)\n",
      "Collecting google-auth-httplib2>=0.0.3 (from google-api-python-client->bigquery-python)\n",
      "  Downloading https://files.pythonhosted.org/packages/33/49/c814d6d438b823441552198f096fcd0377fd6c88714dbed34f1d3c8c4389/google_auth_httplib2-0.0.3-py2.py3-none-any.whl\n",
      "Requirement already satisfied: google-auth>=1.4.1 in /home/avarkentin/python/anaconda3/lib/python3.6/site-packages (from google-api-python-client->bigquery-python) (1.6.2)\n",
      "Collecting uritemplate<4dev,>=3.0.0 (from google-api-python-client->bigquery-python)\n",
      "  Downloading https://files.pythonhosted.org/packages/e5/7d/9d5a640c4f8bf2c8b1afc015e9a9d8de32e13c9016dcc4b0ec03481fb396/uritemplate-3.0.0-py2.py3-none-any.whl\n",
      "Requirement already satisfied: rsa>=3.1.4 in /home/avarkentin/python/anaconda3/lib/python3.6/site-packages (from google-auth>=1.4.1->google-api-python-client->bigquery-python) (4.0)\n",
      "Requirement already satisfied: cachetools>=2.0.0 in /home/avarkentin/python/anaconda3/lib/python3.6/site-packages (from google-auth>=1.4.1->google-api-python-client->bigquery-python) (3.1.0)\n",
      "Requirement already satisfied: pyasn1-modules>=0.2.1 in /home/avarkentin/python/anaconda3/lib/python3.6/site-packages (from google-auth>=1.4.1->google-api-python-client->bigquery-python) (0.2.1)\n",
      "Requirement already satisfied: pyasn1>=0.1.3 in /home/avarkentin/python/anaconda3/lib/python3.6/site-packages (from rsa>=3.1.4->google-auth>=1.4.1->google-api-python-client->bigquery-python) (0.4.4)\n",
      "Building wheels for collected packages: bigquery-python, httplib2\n",
      "  Running setup.py bdist_wheel for bigquery-python ... \u001b[?25ldone\n",
      "\u001b[?25h  Stored in directory: /home/avarkentin/.cache/pip/wheels/f2/77/f1/af7646fa3cb56986c2b890cffcdd6511123d7e4a303eac979b\n",
      "  Running setup.py bdist_wheel for httplib2 ... \u001b[?25ldone\n",
      "\u001b[?25h  Stored in directory: /home/avarkentin/.cache/pip/wheels/6d/41/4b/2b369d6e2b7eaebcdd423516d3fb659c7658c16a2be8fd04ec\n",
      "Successfully built bigquery-python httplib2\n",
      "Installing collected packages: httplib2, google-auth-httplib2, uritemplate, google-api-python-client, bigquery-python\n",
      "Successfully installed bigquery-python-1.14.1 google-api-python-client-1.7.8 google-auth-httplib2-0.0.3 httplib2-0.12.0 uritemplate-3.0.0\n"
     ]
    }
   ],
   "source": [
    "!pip install bigquery-python"
   ]
  },
  {
   "cell_type": "code",
   "execution_count": 72,
   "metadata": {
    "ExecuteTime": {
     "end_time": "2019-01-30T14:25:31.102540Z",
     "start_time": "2019-01-30T14:25:28.824233Z"
    }
   },
   "outputs": [
    {
     "name": "stdout",
     "output_type": "stream",
     "text": [
      "Collecting oauth2client\n",
      "\u001b[?25l  Downloading https://files.pythonhosted.org/packages/95/a9/4f25a14d23f0786b64875b91784607c2277eff25d48f915e39ff0cff505a/oauth2client-4.1.3-py2.py3-none-any.whl (98kB)\n",
      "\u001b[K    100% |████████████████████████████████| 102kB 1.2MB/s a 0:00:011\n",
      "\u001b[?25hRequirement already satisfied, skipping upgrade: rsa>=3.1.4 in /home/avarkentin/python/anaconda3/lib/python3.6/site-packages (from oauth2client) (4.0)\n",
      "Requirement already satisfied, skipping upgrade: httplib2>=0.9.1 in /home/avarkentin/python/anaconda3/lib/python3.6/site-packages (from oauth2client) (0.12.0)\n",
      "Requirement already satisfied, skipping upgrade: six>=1.6.1 in /home/avarkentin/python/anaconda3/lib/python3.6/site-packages (from oauth2client) (1.11.0)\n",
      "Requirement already satisfied, skipping upgrade: pyasn1-modules>=0.0.5 in /home/avarkentin/python/anaconda3/lib/python3.6/site-packages (from oauth2client) (0.2.1)\n",
      "Requirement already satisfied, skipping upgrade: pyasn1>=0.1.7 in /home/avarkentin/python/anaconda3/lib/python3.6/site-packages (from oauth2client) (0.4.4)\n",
      "Installing collected packages: oauth2client\n",
      "Successfully installed oauth2client-4.1.3\n"
     ]
    }
   ],
   "source": [
    "!pip install --upgrade oauth2client"
   ]
  },
  {
   "cell_type": "code",
   "execution_count": 2,
   "metadata": {
    "ExecuteTime": {
     "end_time": "2019-02-13T07:04:24.297013Z",
     "start_time": "2019-02-13T07:04:23.103732Z"
    }
   },
   "outputs": [],
   "source": [
    "from bigquery import get_client\n",
    "from google.oauth2 import service_account\n",
    "# BigQuery project id as listed in the Google Developers Console.\n",
    "project_id = 'ru-dataservices'\n",
    "\n",
    "# Service account email address as listed in the Google Developers Console.\n",
    "service_account = 'service-test@ru-dataservices.iam.gserviceaccount.com'\n",
    "\n",
    "# JSON key provided by Google\n",
    "json_key = 'ru-dataservices-ce567915256b.json'\n",
    " \n",
    "client = get_client(json_key_file=json_key, readonly = False)"
   ]
  },
  {
   "cell_type": "code",
   "execution_count": null,
   "metadata": {
    "ExecuteTime": {
     "end_time": "2019-01-30T15:13:12.116616Z",
     "start_time": "2019-01-30T15:13:11.434396Z"
    }
   },
   "outputs": [],
   "source": [
    "# write to permanent table with UDF in query string\n",
    "from google.cloud import bigquery\n",
    "\n",
    "external_udf_uris = [\"gs://uaz/test3/*\"]\n",
    "query = '''\n",
    "#standardSQL\n",
    "\n",
    "SELECT \n",
    "event.a_afficheW\n",
    ",event.a_c_gt_Banking\n",
    ",event.a_c_gt_Real_estate\n",
    ",event.a_c_gt_Good_deals\n",
    ",event.a_c_gt_Furniture\n",
    ",event.a_c_gt_Tennis\n",
    ",event.a_c_gt_Building_and_civil_engineering\n",
    ",event.a_c_gt_Entrepreneur\n",
    ",event.a_c_gt_Family\n",
    ",event.a_c_gt_Finance\n",
    ",event.a_c_gt_Marriage_civil_union\n",
    ",event.a_c_gt_Loans\n",
    ",event.a_c_gt_Interior_design\n",
    ",event.a_c_gt_Asset_management\n",
    ",event.a_c_gt_Business_Administration_and_Management\n",
    ",event.a_c_gt_Car_buyers\n",
    ",event.a_c_gt_Careers_and_occupational_training\n",
    ",event.a_c_gt_Catchup_TV\n",
    ",event.a_c_gt_Weather\n",
    ",event.a_c_gt_Winter_Holidays\n",
    ",event.a_c_gt_Children\n",
    ",event.a_c_gt_Soccer\n",
    ",event.a_c_gt_Games_consoles\n",
    ",event.a_c_gt_Cloud_computing\n",
    ",event.a_c_gt_Churn_Telecom\n",
    ",event.a_c_gt_Car_Rental\n",
    ",event.a_c_gt_Clothing\n",
    ",event.a_c_gt_Fruits_and_vegetables\n",
    ",event.a_s_a_11_14\n",
    ",event.a_s_a_15_17\n",
    ",event.a_s_a_18_24\n",
    ",event.a_s_a_25_34\n",
    ",event.a_s_a_35_49\n",
    ",event.a_s_a_50_64\n",
    ",event.a_s_a_65_110\n",
    ",event.a_s_g_m\n",
    ",event.a_s_g_f\n",
    ",event.a_s_s_i\n",
    ",event.a_s_i_0\n",
    ",event.a_s_i_1\n",
    ",event.a_s_i_2\n",
    ",event.a_s_i_3\n",
    ",event.a_s_i_4\n",
    ",event.a_latitude\n",
    ",event.a_longitude\n",
    ",event.a_s_e_po\n",
    ",event.a_s_e_pr\n",
    ",event.a_s_e_s\n",
    ",event.a_s_e_u\n",
    "\n",
    "\n",
    "FROM (\n",
    "  SELECT ARRAY_AGG(t LIMIT 1)\n",
    "    [OFFSET(0)] event\n",
    "  FROM \n",
    "    `ru-dataservices.BIGSEA_EU.RU_uu_2019*` t \n",
    "  WHERE _table_suffix BETWEEN '0101' AND '0125'\n",
    "  \n",
    "  GROUP BY a_afficheW\n",
    ")\n",
    "INNER JOIN\n",
    "  --Uploaded cookies\n",
    "  `ru-dataservices.result.ID_MIC_cookies` mic\n",
    "ON\n",
    "  --Key field\n",
    "  event.a_afficheW = mic.string_field_0\n",
    "ORDER BY \n",
    "  a_afficheW\n",
    "LIMIT 1000\n",
    "'''\n",
    "# Set use_legacy_sql to True to use legacy SQL syntax.\n",
    "# job_config = bigquery.QueryJobConfig()\n",
    "# job_config.use_legacy_sql = False\n",
    "\n",
    "# job = client.write_to_table(\n",
    "#   query,\n",
    "#   table = 'testtable',\n",
    "#   external_udf_uris=external_udf_uris,\n",
    "#   use_legacy_sql = False)\n",
    "\n",
    "\n",
    "# job = client.export_data_to_uris(\n",
    "#   query,\n",
    "#   table = 'test table',\n",
    "#   destination_uris=external_udf_uris,\n",
    "#   use_legacy_sql = False)\n",
    "# try:\n",
    "#     job_resource = client.wait_for_job(job, timeout=60)\n",
    "#     print (job_resource)\n",
    "# except BigQueryTimeoutException:\n",
    "#     print (\"Timeout\")"
   ]
  },
  {
   "cell_type": "code",
   "execution_count": 113,
   "metadata": {
    "ExecuteTime": {
     "end_time": "2019-01-30T15:03:15.878271Z",
     "start_time": "2019-01-30T15:03:14.978214Z"
    }
   },
   "outputs": [],
   "source": [
    "# #  Submit an async query\n",
    "# job_id, _results = client.query(query, external_udf_uris=external_udf_uris, use_legacy_sql = False)\n",
    "# # Poll for query completion.\n",
    "# complete, row_count = client.check_job(job_id)\n",
    "\n",
    "# # Retrieve the results.\n",
    "# if complete:\n",
    "#     results = client.get_query_rows(job_id)"
   ]
  },
  {
   "cell_type": "code",
   "execution_count": 116,
   "metadata": {
    "ExecuteTime": {
     "end_time": "2019-01-30T15:03:19.575186Z",
     "start_time": "2019-01-30T15:03:19.568233Z"
    }
   },
   "outputs": [
    {
     "data": {
      "text/plain": [
       "False"
      ]
     },
     "execution_count": 116,
     "metadata": {},
     "output_type": "execute_result"
    }
   ],
   "source": [
    "# complete"
   ]
  },
  {
   "cell_type": "markdown",
   "metadata": {},
   "source": [
    "#### Создание таблицы в БК после запроса"
   ]
  },
  {
   "cell_type": "code",
   "execution_count": 127,
   "metadata": {
    "ExecuteTime": {
     "end_time": "2019-01-30T15:28:16.202283Z",
     "start_time": "2019-01-30T15:27:30.058125Z"
    }
   },
   "outputs": [
    {
     "name": "stdout",
     "output_type": "stream",
     "text": [
      "Query results loaded to table /projects/ru-dataservices/datasets/result/tables/test_BQ2\n"
     ]
    }
   ],
   "source": [
    "from google.cloud import bigquery\n",
    "client = bigquery.Client()\n",
    "dataset_id = 'result'\n",
    "\n",
    "job_config = bigquery.QueryJobConfig()\n",
    "job_config.use_legacy_sql = False\n",
    "# Set the destination table\n",
    "table_ref = client.dataset(dataset_id).table('test_BQ2')\n",
    "job_config.destination = table_ref\n",
    "sql = query\n",
    "\n",
    "# Start the query, passing in the extra configuration.\n",
    "query_job = client.query(\n",
    "    sql,\n",
    "    # Location must match that of the dataset(s) referenced in the query\n",
    "    # and of the destination table.\n",
    "    job_config=job_config)  # API request - starts the query\n",
    "\n",
    "query_job.result()  # Waits for the query to finish\n",
    "print('Query results loaded to table {}'.format(table_ref.path))"
   ]
  },
  {
   "cell_type": "markdown",
   "metadata": {},
   "source": [
    "#### Импорт таблицы из БК в ГКС"
   ]
  },
  {
   "cell_type": "code",
   "execution_count": 8,
   "metadata": {
    "ExecuteTime": {
     "end_time": "2019-02-13T07:06:22.715395Z",
     "start_time": "2019-02-13T07:06:22.049710Z"
    }
   },
   "outputs": [
    {
     "ename": "NotFound",
     "evalue": "404 Not found: Table ru-dataservices:result.ikea_pot_1_rich was not found in location EU",
     "output_type": "error",
     "traceback": [
      "\u001b[0;31m---------------------------------------------------------------------------\u001b[0m",
      "\u001b[0;31mNotFound\u001b[0m                                  Traceback (most recent call last)",
      "\u001b[0;32m<ipython-input-8-7d2d406da67a>\u001b[0m in \u001b[0;36m<module>\u001b[0;34m\u001b[0m\n\u001b[1;32m     14\u001b[0m     destination_uri)\n\u001b[1;32m     15\u001b[0m     \u001b[0;31m# Location must match that of the source table.)  # API request\u001b[0m\u001b[0;34m\u001b[0m\u001b[0;34m\u001b[0m\u001b[0m\n\u001b[0;32m---> 16\u001b[0;31m \u001b[0mextract_job\u001b[0m\u001b[0;34m.\u001b[0m\u001b[0mresult\u001b[0m\u001b[0;34m(\u001b[0m\u001b[0;34m)\u001b[0m  \u001b[0;31m# Waits for job to complete.\u001b[0m\u001b[0;34m\u001b[0m\u001b[0m\n\u001b[0m\u001b[1;32m     17\u001b[0m \u001b[0;34m\u001b[0m\u001b[0m\n\u001b[1;32m     18\u001b[0m print('Exported {}:{}.{} to {}'.format(\n",
      "\u001b[0;32m~/python/anaconda3/lib/python3.6/site-packages/google/cloud/bigquery/job.py\u001b[0m in \u001b[0;36mresult\u001b[0;34m(self, timeout, retry)\u001b[0m\n\u001b[1;32m    701\u001b[0m             \u001b[0mself\u001b[0m\u001b[0;34m.\u001b[0m\u001b[0m_begin\u001b[0m\u001b[0;34m(\u001b[0m\u001b[0mretry\u001b[0m\u001b[0;34m=\u001b[0m\u001b[0mretry\u001b[0m\u001b[0;34m)\u001b[0m\u001b[0;34m\u001b[0m\u001b[0m\n\u001b[1;32m    702\u001b[0m         \u001b[0;31m# TODO: modify PollingFuture so it can pass a retry argument to done().\u001b[0m\u001b[0;34m\u001b[0m\u001b[0;34m\u001b[0m\u001b[0m\n\u001b[0;32m--> 703\u001b[0;31m         \u001b[0;32mreturn\u001b[0m \u001b[0msuper\u001b[0m\u001b[0;34m(\u001b[0m\u001b[0m_AsyncJob\u001b[0m\u001b[0;34m,\u001b[0m \u001b[0mself\u001b[0m\u001b[0;34m)\u001b[0m\u001b[0;34m.\u001b[0m\u001b[0mresult\u001b[0m\u001b[0;34m(\u001b[0m\u001b[0mtimeout\u001b[0m\u001b[0;34m=\u001b[0m\u001b[0mtimeout\u001b[0m\u001b[0;34m)\u001b[0m\u001b[0;34m\u001b[0m\u001b[0m\n\u001b[0m\u001b[1;32m    704\u001b[0m \u001b[0;34m\u001b[0m\u001b[0m\n\u001b[1;32m    705\u001b[0m     \u001b[0;32mdef\u001b[0m \u001b[0mcancelled\u001b[0m\u001b[0;34m(\u001b[0m\u001b[0mself\u001b[0m\u001b[0;34m)\u001b[0m\u001b[0;34m:\u001b[0m\u001b[0;34m\u001b[0m\u001b[0m\n",
      "\u001b[0;32m~/python/anaconda3/lib/python3.6/site-packages/google/api_core/future/polling.py\u001b[0m in \u001b[0;36mresult\u001b[0;34m(self, timeout)\u001b[0m\n\u001b[1;32m    125\u001b[0m             \u001b[0;31m# pylint: disable=raising-bad-type\u001b[0m\u001b[0;34m\u001b[0m\u001b[0;34m\u001b[0m\u001b[0m\n\u001b[1;32m    126\u001b[0m             \u001b[0;31m# Pylint doesn't recognize that this is valid in this case.\u001b[0m\u001b[0;34m\u001b[0m\u001b[0;34m\u001b[0m\u001b[0m\n\u001b[0;32m--> 127\u001b[0;31m             \u001b[0;32mraise\u001b[0m \u001b[0mself\u001b[0m\u001b[0;34m.\u001b[0m\u001b[0m_exception\u001b[0m\u001b[0;34m\u001b[0m\u001b[0m\n\u001b[0m\u001b[1;32m    128\u001b[0m \u001b[0;34m\u001b[0m\u001b[0m\n\u001b[1;32m    129\u001b[0m         \u001b[0;32mreturn\u001b[0m \u001b[0mself\u001b[0m\u001b[0;34m.\u001b[0m\u001b[0m_result\u001b[0m\u001b[0;34m\u001b[0m\u001b[0m\n",
      "\u001b[0;31mNotFound\u001b[0m: 404 Not found: Table ru-dataservices:result.ikea_pot_1_rich was not found in location EU"
     ]
    }
   ],
   "source": [
    "from google.cloud import bigquery\n",
    "client = bigquery.Client()\n",
    "bucket_name = 'ikea_segments'\n",
    "project = 'ru-dataservices'\n",
    "dataset_id = 'result'\n",
    "table_id = 'ikea_pot_1_rich'\n",
    "\n",
    "destination_uri = 'gs://{}/{}'.format(bucket_name, 'ikea_pot_1_rich.csv')\n",
    "dataset_ref = client.dataset(dataset_id, project=project)\n",
    "table_ref = dataset_ref.table(table_id)\n",
    "\n",
    "extract_job = client.extract_table(\n",
    "    table_ref,\n",
    "    destination_uri)\n",
    "    # Location must match that of the source table.)  # API request\n",
    "extract_job.result()  # Waits for job to complete.\n",
    "\n",
    "print('Exported {}:{}.{} to {}'.format(\n",
    "    project, dataset_id, table_id, destination_uri))"
   ]
  },
  {
   "cell_type": "code",
   "execution_count": null,
   "metadata": {},
   "outputs": [],
   "source": []
  }
 ],
 "metadata": {
  "kernelspec": {
   "display_name": "Python 3",
   "language": "python",
   "name": "python3"
  },
  "language_info": {
   "codemirror_mode": {
    "name": "ipython",
    "version": 3
   },
   "file_extension": ".py",
   "mimetype": "text/x-python",
   "name": "python",
   "nbconvert_exporter": "python",
   "pygments_lexer": "ipython3",
   "version": "3.6.8"
  },
  "toc": {
   "base_numbering": 1,
   "nav_menu": {},
   "number_sections": true,
   "sideBar": true,
   "skip_h1_title": false,
   "title_cell": "Table of Contents",
   "title_sidebar": "Contents",
   "toc_cell": false,
   "toc_position": {},
   "toc_section_display": true,
   "toc_window_display": true
  }
 },
 "nbformat": 4,
 "nbformat_minor": 2
}
